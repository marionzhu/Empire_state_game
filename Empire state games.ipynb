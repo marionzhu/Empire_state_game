{
 "cells": [
  {
   "cell_type": "markdown",
   "id": "fe91c6a7",
   "metadata": {},
   "source": [
    "## Hacker Statistics - Empire State Games"
   ]
  },
  {
   "cell_type": "markdown",
   "id": "da3b25ca",
   "metadata": {},
   "source": [
    "You throw a dice 100 times\n",
    "\n",
    "- If you get 1 or 2, you go one step down \n",
    "- If you get 3, 4 or 5, you go one step up\n",
    "- If you get 6, you will throw the dice again and will walk up the resulting number\n",
    "- You cannot go lower than step 0\n",
    "- You have 0.1% chance of falling down the stairs and move from 0 again\n",
    "\n",
    "When you reach 60 steps high or more, then you win the game, otherwise lose. What is the chance of winning the game?"
   ]
  },
  {
   "cell_type": "code",
   "execution_count": 2,
   "id": "33d83d54",
   "metadata": {},
   "outputs": [],
   "source": [
    "import numpy as np"
   ]
  },
  {
   "cell_type": "code",
   "execution_count": 3,
   "id": "a4770298",
   "metadata": {},
   "outputs": [],
   "source": [
    "# set the seed\n",
    "np.random.seed(123)\n",
    "\n",
    "final_step = []\n",
    "for i in range(10000): # simulate the games 10000 times\n",
    "    step = 0\n",
    "    for i in range(100):\n",
    "        dice = np.random.randint(1,7)\n",
    "        if dice <=2:\n",
    "            step = max(0, step - 1) # make sure step doesn't go down 0\n",
    "        elif dice <=5:\n",
    "            step = step + 1\n",
    "        else:\n",
    "            step = step + np.random.randint(1,7)\n",
    "            \n",
    "        if np.random.rand()<=0.001: # 0.1% chance of falling to 0 step\n",
    "            step = 0\n",
    "        \n",
    "    final_step.append(step)"
   ]
  },
  {
   "cell_type": "code",
   "execution_count": 4,
   "id": "4cdf651d",
   "metadata": {},
   "outputs": [],
   "source": [
    "import matplotlib.pyplot as plt"
   ]
  },
  {
   "cell_type": "code",
   "execution_count": 14,
   "id": "e0d66f09",
   "metadata": {},
   "outputs": [
    {
     "data": {
      "image/png": "[encoded data removed]",
      "text/plain": [
       "<Figure size 640x480 with 1 Axes>"
      ]
     },
     "metadata": {},
     "output_type": "display_data"
    }
   ],
   "source": [
    "plt.hist(final_step, bins = 140)\n",
    "plt.show()"
   ]
  },
  {
   "cell_type": "code",
   "execution_count": 10,
   "id": "a428a43c",
   "metadata": {},
   "outputs": [
    {
     "name": "stdout",
     "output_type": "stream",
     "text": [
      "The chance to win is 0.7814\n"
     ]
    }
   ],
   "source": [
    "win_counts = sum(np.array(final_step)>=60)\n",
    "game_count=len(final_step)\n",
    "\n",
    "print(f'The chance to win is {win_counts/game_count}')"
   ]
  }
 ],
 "metadata": {
  "kernelspec": {
   "display_name": "Python 3 (ipykernel)",
   "language": "python",
   "name": "python3"
  },
  "language_info": {
   "codemirror_mode": {
    "name": "ipython",
    "version": 3
   },
   "file_extension": ".py",
   "mimetype": "text/x-python",
   "name": "python",
   "nbconvert_exporter": "python",
   "pygments_lexer": "ipython3",
   "version": "3.11.5"
  }
 },
 "nbformat": 4,
 "nbformat_minor": 5
}
